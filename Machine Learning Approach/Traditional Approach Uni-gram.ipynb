{
 "cells": [
  {
   "cell_type": "code",
   "execution_count": 1,
   "metadata": {},
   "outputs": [],
   "source": [
    "import pandas as pd\n",
    "import numpy as np\n",
    "from sklearn.model_selection import train_test_split,GridSearchCV\n",
    "from sklearn.metrics import accuracy_score, confusion_matrix, roc_curve, roc_auc_score"
   ]
  },
  {
   "cell_type": "code",
   "execution_count": 2,
   "metadata": {},
   "outputs": [],
   "source": [
    "from sklearn.feature_extraction.text import TfidfVectorizer\n",
    "from sklearn.tree import DecisionTreeClassifier\n",
    "from sklearn.linear_model import LogisticRegression\n",
    "from sklearn.svm import SVC\n",
    "from sklearn.ensemble import RandomForestClassifier\n",
    "from sklearn.neighbors import KNeighborsClassifier\n",
    "from sklearn.naive_bayes import GaussianNB\n",
    "from sklearn.naive_bayes import MultinomialNB\n",
    "from sklearn.metrics import accuracy_score, classification_report, confusion_matrix\n",
    "from sklearn.model_selection import cross_val_score\n",
    "from sklearn.datasets import make_classification\n",
    "from sklearn.ensemble import GradientBoostingClassifier"
   ]
  },
  {
   "cell_type": "code",
   "execution_count": 3,
   "metadata": {},
   "outputs": [],
   "source": [
    "import sklearn\n",
    "from imblearn.combine import SMOTETomek\n",
    "from imblearn.under_sampling import NearMiss\n",
    "from imblearn.over_sampling import RandomOverSampler\n",
    "from sklearn.svm import SVC\n",
    "from sklearn.linear_model import LogisticRegression\n",
    "from sklearn import svm"
   ]
  },
  {
   "cell_type": "code",
   "execution_count": 4,
   "metadata": {},
   "outputs": [],
   "source": [
    "merge_data = pd.read_csv('../Data/Updated Data_V1.csv')"
   ]
  },
  {
   "cell_type": "code",
   "execution_count": 5,
   "metadata": {},
   "outputs": [
    {
     "data": {
      "text/html": [
       "<div>\n",
       "<style scoped>\n",
       "    .dataframe tbody tr th:only-of-type {\n",
       "        vertical-align: middle;\n",
       "    }\n",
       "\n",
       "    .dataframe tbody tr th {\n",
       "        vertical-align: top;\n",
       "    }\n",
       "\n",
       "    .dataframe thead th {\n",
       "        text-align: right;\n",
       "    }\n",
       "</style>\n",
       "<table border=\"1\" class=\"dataframe\">\n",
       "  <thead>\n",
       "    <tr style=\"text-align: right;\">\n",
       "      <th></th>\n",
       "      <th>Unnamed: 0</th>\n",
       "      <th>articleID</th>\n",
       "      <th>label</th>\n",
       "      <th>headline_v4</th>\n",
       "      <th>headline_postag</th>\n",
       "      <th>headline_stem</th>\n",
       "    </tr>\n",
       "  </thead>\n",
       "  <tbody>\n",
       "    <tr>\n",
       "      <th>0</th>\n",
       "      <td>0</td>\n",
       "      <td>1</td>\n",
       "      <td>0</td>\n",
       "      <td>মুরগির হামলায় শেয়াল নিহত</td>\n",
       "      <td>মুরগির/NC হামলায়/NC শেয়াল/NC নিহত/JJ</td>\n",
       "      <td>মুগি হামলা শেয়াল নিহত</td>\n",
       "    </tr>\n",
       "    <tr>\n",
       "      <th>1</th>\n",
       "      <td>1</td>\n",
       "      <td>2</td>\n",
       "      <td>0</td>\n",
       "      <td>বিটিভিতে যেবার ইন্টারভিউ গেলাম</td>\n",
       "      <td>বিটিভিতে/NC যেবার/NV ইন্টারভিউ/NC গেলাম/VM</td>\n",
       "      <td>বিটিভিতে যেবা ইন্টারভিউ গে</td>\n",
       "    </tr>\n",
       "    <tr>\n",
       "      <th>2</th>\n",
       "      <td>2</td>\n",
       "      <td>3</td>\n",
       "      <td>0</td>\n",
       "      <td>বিদেশ উন্নতমানের বিরোধীদল আমদানি পরামর্শ অনলাই...</td>\n",
       "      <td>বিদেশ/NC উন্নতমানের/NC বিরোধীদল/NC আমদানি/NC প...</td>\n",
       "      <td>বিদেশ উন্নতমান বিরোধী আমদানি পরামর্শ অনলাইন রা...</td>\n",
       "    </tr>\n",
       "    <tr>\n",
       "      <th>3</th>\n",
       "      <td>3</td>\n",
       "      <td>4</td>\n",
       "      <td>0</td>\n",
       "      <td>অবসর নেয়ার ঘোষণা মেসি</td>\n",
       "      <td>অবসর/NC নেয়ার/NC ঘোষণা/NC মেসি/NP</td>\n",
       "      <td>অবস নেয়া ঘোষণা মেসি</td>\n",
       "    </tr>\n",
       "    <tr>\n",
       "      <th>4</th>\n",
       "      <td>4</td>\n",
       "      <td>5</td>\n",
       "      <td>0</td>\n",
       "      <td>মাদারফাকার নহে ব্রাদারফাকার সাকা দৈনিক মতিকণ্ঠ</td>\n",
       "      <td>মাদারফাকার/NC নহে/VM ব্রাদারফাকার/NC সাকা/NC দ...</td>\n",
       "      <td>মাদাফাকা নহে ব্াদাফাকা সাকা দৈন মতিকণ্ঠ</td>\n",
       "    </tr>\n",
       "  </tbody>\n",
       "</table>\n",
       "</div>"
      ],
      "text/plain": [
       "   Unnamed: 0  articleID  label  \\\n",
       "0           0          1      0   \n",
       "1           1          2      0   \n",
       "2           2          3      0   \n",
       "3           3          4      0   \n",
       "4           4          5      0   \n",
       "\n",
       "                                         headline_v4  \\\n",
       "0                           মুরগির হামলায় শেয়াল নিহত   \n",
       "1                     বিটিভিতে যেবার ইন্টারভিউ গেলাম   \n",
       "2  বিদেশ উন্নতমানের বিরোধীদল আমদানি পরামর্শ অনলাই...   \n",
       "3                              অবসর নেয়ার ঘোষণা মেসি   \n",
       "4     মাদারফাকার নহে ব্রাদারফাকার সাকা দৈনিক মতিকণ্ঠ   \n",
       "\n",
       "                                     headline_postag  \\\n",
       "0               মুরগির/NC হামলায়/NC শেয়াল/NC নিহত/JJ   \n",
       "1         বিটিভিতে/NC যেবার/NV ইন্টারভিউ/NC গেলাম/VM   \n",
       "2  বিদেশ/NC উন্নতমানের/NC বিরোধীদল/NC আমদানি/NC প...   \n",
       "3                  অবসর/NC নেয়ার/NC ঘোষণা/NC মেসি/NP   \n",
       "4  মাদারফাকার/NC নহে/VM ব্রাদারফাকার/NC সাকা/NC দ...   \n",
       "\n",
       "                                       headline_stem  \n",
       "0                              মুগি হামলা শেয়াল নিহত  \n",
       "1                         বিটিভিতে যেবা ইন্টারভিউ গে  \n",
       "2  বিদেশ উন্নতমান বিরোধী আমদানি পরামর্শ অনলাইন রা...  \n",
       "3                                অবস নেয়া ঘোষণা মেসি  \n",
       "4            মাদাফাকা নহে ব্াদাফাকা সাকা দৈন মতিকণ্ঠ  "
      ]
     },
     "execution_count": 5,
     "metadata": {},
     "output_type": "execute_result"
    }
   ],
   "source": [
    "merge_data.head()"
   ]
  },
  {
   "cell_type": "code",
   "execution_count": 6,
   "metadata": {},
   "outputs": [],
   "source": [
    "merge_data.drop('Unnamed: 0',inplace=True,axis = 1)"
   ]
  },
  {
   "cell_type": "code",
   "execution_count": 7,
   "metadata": {},
   "outputs": [
    {
     "data": {
      "text/html": [
       "<div>\n",
       "<style scoped>\n",
       "    .dataframe tbody tr th:only-of-type {\n",
       "        vertical-align: middle;\n",
       "    }\n",
       "\n",
       "    .dataframe tbody tr th {\n",
       "        vertical-align: top;\n",
       "    }\n",
       "\n",
       "    .dataframe thead th {\n",
       "        text-align: right;\n",
       "    }\n",
       "</style>\n",
       "<table border=\"1\" class=\"dataframe\">\n",
       "  <thead>\n",
       "    <tr style=\"text-align: right;\">\n",
       "      <th></th>\n",
       "      <th>articleID</th>\n",
       "      <th>label</th>\n",
       "      <th>headline_v4</th>\n",
       "      <th>headline_postag</th>\n",
       "      <th>headline_stem</th>\n",
       "    </tr>\n",
       "  </thead>\n",
       "  <tbody>\n",
       "    <tr>\n",
       "      <th>0</th>\n",
       "      <td>1</td>\n",
       "      <td>0</td>\n",
       "      <td>মুরগির হামলায় শেয়াল নিহত</td>\n",
       "      <td>মুরগির/NC হামলায়/NC শেয়াল/NC নিহত/JJ</td>\n",
       "      <td>মুগি হামলা শেয়াল নিহত</td>\n",
       "    </tr>\n",
       "    <tr>\n",
       "      <th>1</th>\n",
       "      <td>2</td>\n",
       "      <td>0</td>\n",
       "      <td>বিটিভিতে যেবার ইন্টারভিউ গেলাম</td>\n",
       "      <td>বিটিভিতে/NC যেবার/NV ইন্টারভিউ/NC গেলাম/VM</td>\n",
       "      <td>বিটিভিতে যেবা ইন্টারভিউ গে</td>\n",
       "    </tr>\n",
       "    <tr>\n",
       "      <th>2</th>\n",
       "      <td>3</td>\n",
       "      <td>0</td>\n",
       "      <td>বিদেশ উন্নতমানের বিরোধীদল আমদানি পরামর্শ অনলাই...</td>\n",
       "      <td>বিদেশ/NC উন্নতমানের/NC বিরোধীদল/NC আমদানি/NC প...</td>\n",
       "      <td>বিদেশ উন্নতমান বিরোধী আমদানি পরামর্শ অনলাইন রা...</td>\n",
       "    </tr>\n",
       "  </tbody>\n",
       "</table>\n",
       "</div>"
      ],
      "text/plain": [
       "   articleID  label                                        headline_v4  \\\n",
       "0          1      0                           মুরগির হামলায় শেয়াল নিহত   \n",
       "1          2      0                     বিটিভিতে যেবার ইন্টারভিউ গেলাম   \n",
       "2          3      0  বিদেশ উন্নতমানের বিরোধীদল আমদানি পরামর্শ অনলাই...   \n",
       "\n",
       "                                     headline_postag  \\\n",
       "0               মুরগির/NC হামলায়/NC শেয়াল/NC নিহত/JJ   \n",
       "1         বিটিভিতে/NC যেবার/NV ইন্টারভিউ/NC গেলাম/VM   \n",
       "2  বিদেশ/NC উন্নতমানের/NC বিরোধীদল/NC আমদানি/NC প...   \n",
       "\n",
       "                                       headline_stem  \n",
       "0                              মুগি হামলা শেয়াল নিহত  \n",
       "1                         বিটিভিতে যেবা ইন্টারভিউ গে  \n",
       "2  বিদেশ উন্নতমান বিরোধী আমদানি পরামর্শ অনলাইন রা...  "
      ]
     },
     "execution_count": 7,
     "metadata": {},
     "output_type": "execute_result"
    }
   ],
   "source": [
    "merge_data.head(3)"
   ]
  },
  {
   "cell_type": "markdown",
   "metadata": {},
   "source": [
    "# Uni Gram Approach"
   ]
  },
  {
   "cell_type": "code",
   "execution_count": 8,
   "metadata": {},
   "outputs": [],
   "source": [
    "# Feature Extraction\n",
    "tfidf = TfidfVectorizer(sublinear_tf=True,\n",
    "                            analyzer='word',\n",
    "                            ngram_range=(1,1),\n",
    "                            max_features=8000)"
   ]
  },
  {
   "cell_type": "code",
   "execution_count": 9,
   "metadata": {},
   "outputs": [],
   "source": [
    "X = tfidf.fit_transform(merge_data['headline_v4'])"
   ]
  },
  {
   "cell_type": "code",
   "execution_count": 10,
   "metadata": {},
   "outputs": [],
   "source": [
    "Y = merge_data['label']"
   ]
  },
  {
   "cell_type": "code",
   "execution_count": 11,
   "metadata": {},
   "outputs": [],
   "source": [
    "smk_biagram = SMOTETomek(random_state=42)\n",
    "X_v1,Y_v1=smk_biagram.fit_sample(X,Y)"
   ]
  },
  {
   "cell_type": "code",
   "execution_count": 12,
   "metadata": {
    "scrolled": true
   },
   "outputs": [
    {
     "name": "stdout",
     "output_type": "stream",
     "text": [
      "Original dataset shape Counter({1: 52588, 0: 4527})\n",
      "Resampled dataset shape Counter({0: 52586, 1: 52586})\n"
     ]
    }
   ],
   "source": [
    "from collections import Counter\n",
    "print('Original dataset shape {}'.format(Counter(Y)))\n",
    "print('Resampled dataset shape {}'.format(Counter(Y_v1)))"
   ]
  },
  {
   "cell_type": "code",
   "execution_count": 16,
   "metadata": {},
   "outputs": [],
   "source": [
    "# let's see how well our model perform on this new data\n",
    "x_train,x_test,y_train,y_test = train_test_split(X_bv1,Y_v1,test_size = 0.30, random_state= True)"
   ]
  },
  {
   "cell_type": "code",
   "execution_count": 15,
   "metadata": {},
   "outputs": [
    {
     "name": "stdout",
     "output_type": "stream",
     "text": [
      "Decission Tree Classifier\n",
      "              precision    recall  f1-score   support\n",
      "\n",
      "           0       0.84      0.89      0.86     15723\n",
      "           1       0.88      0.83      0.86     15829\n",
      "\n",
      "    accuracy                           0.86     31552\n",
      "   macro avg       0.86      0.86      0.86     31552\n",
      "weighted avg       0.86      0.86      0.86     31552\n",
      "\n",
      "Random Forest  Classifier\n",
      "              precision    recall  f1-score   support\n",
      "\n",
      "           0       0.87      0.91      0.89     15723\n",
      "           1       0.91      0.87      0.89     15829\n",
      "\n",
      "    accuracy                           0.89     31552\n",
      "   macro avg       0.89      0.89      0.89     31552\n",
      "weighted avg       0.89      0.89      0.89     31552\n",
      "\n",
      "KNN  Algo\n",
      "              precision    recall  f1-score   support\n",
      "\n",
      "           0       0.66      0.96      0.78     15723\n",
      "           1       0.93      0.51      0.66     15829\n",
      "\n",
      "    accuracy                           0.73     31552\n",
      "   macro avg       0.80      0.74      0.72     31552\n",
      "weighted avg       0.80      0.73      0.72     31552\n",
      "\n",
      "Gaussian Naive Bias\n",
      "              precision    recall  f1-score   support\n",
      "\n",
      "           0       0.67      0.67      0.67     15723\n",
      "           1       0.67      0.67      0.67     15829\n",
      "\n",
      "    accuracy                           0.67     31552\n",
      "   macro avg       0.67      0.67      0.67     31552\n",
      "weighted avg       0.67      0.67      0.67     31552\n",
      "\n"
     ]
    },
    {
     "ename": "NameError",
     "evalue": "name 'GradientBoostingClassifier' is not defined",
     "output_type": "error",
     "traceback": [
      "\u001b[1;31m---------------------------------------------------------------------------\u001b[0m",
      "\u001b[1;31mNameError\u001b[0m                                 Traceback (most recent call last)",
      "\u001b[1;32m<ipython-input-15-fb3148fc6de7>\u001b[0m in \u001b[0;36m<module>\u001b[1;34m\u001b[0m\n\u001b[0;32m     30\u001b[0m \u001b[1;33m\u001b[0m\u001b[0m\n\u001b[0;32m     31\u001b[0m \u001b[1;31m# Gradient bossting\u001b[0m\u001b[1;33m\u001b[0m\u001b[1;33m\u001b[0m\u001b[1;33m\u001b[0m\u001b[0m\n\u001b[1;32m---> 32\u001b[1;33m \u001b[0mgradient_bossting\u001b[0m \u001b[1;33m=\u001b[0m \u001b[0mGradientBoostingClassifier\u001b[0m\u001b[1;33m(\u001b[0m\u001b[0mrandom_state\u001b[0m\u001b[1;33m=\u001b[0m\u001b[1;36m3\u001b[0m\u001b[1;33m)\u001b[0m\u001b[1;33m\u001b[0m\u001b[1;33m\u001b[0m\u001b[0m\n\u001b[0m\u001b[0;32m     33\u001b[0m \u001b[0mgradient_bossting\u001b[0m\u001b[1;33m.\u001b[0m\u001b[0mfit\u001b[0m\u001b[1;33m(\u001b[0m\u001b[0mx_train\u001b[0m\u001b[1;33m,\u001b[0m\u001b[0my_train\u001b[0m\u001b[1;33m)\u001b[0m\u001b[1;33m\u001b[0m\u001b[1;33m\u001b[0m\u001b[0m\n\u001b[0;32m     34\u001b[0m \u001b[0my_pred_gradientbossting\u001b[0m \u001b[1;33m=\u001b[0m \u001b[0mgradient_bossting\u001b[0m\u001b[1;33m.\u001b[0m\u001b[0mpredict\u001b[0m\u001b[1;33m(\u001b[0m\u001b[0mx_test\u001b[0m\u001b[1;33m)\u001b[0m\u001b[1;33m\u001b[0m\u001b[1;33m\u001b[0m\u001b[0m\n",
      "\u001b[1;31mNameError\u001b[0m: name 'GradientBoostingClassifier' is not defined"
     ]
    }
   ],
   "source": [
    "# Decission Tree Classifier\n",
    "decession_tree = DecisionTreeClassifier()\n",
    "decession_tree.fit(x_train,y_train)\n",
    "y_pred_decession_tree = decession_tree.predict(x_test)\n",
    "print(\"Decission Tree Classifier\")\n",
    "print(classification_report(y_test, y_pred_decession_tree))\n",
    "\n",
    "# Random Forest  Classifier\n",
    "random_forest = RandomForestClassifier()\n",
    "random_forest.fit(x_train,y_train)\n",
    "y_pred_random_forest = random_forest.predict(x_test)\n",
    "print(\"Random Forest  Classifier\")\n",
    "print(classification_report(y_test, y_pred_random_forest))\n",
    "\n",
    "\n",
    "# KNN  Algo\n",
    "knn_classifier = KNeighborsClassifier()\n",
    "knn_classifier.fit(x_train,y_train)\n",
    "y_pred_knn_classifier = knn_classifier.predict(x_test)\n",
    "print(\"KNN  Algo\")\n",
    "print(classification_report(y_test, y_pred_knn_classifier))\n",
    "\n",
    "\n",
    "# Multinomial Naive Bias\n",
    "mulNB = MultinomialNB()\n",
    "mulNB.fit(x_train,y_train)\n",
    "y_pred_mulNB = mulNB.predict(x_test)\n",
    "print(\"Gaussian Naive Bias\")\n",
    "print(classification_report(y_test, y_pred_mulNB))\n"
   ]
  },
  {
   "cell_type": "code",
   "execution_count": 20,
   "metadata": {},
   "outputs": [
    {
     "name": "stdout",
     "output_type": "stream",
     "text": [
      "GradientBosting  Algo\n",
      "              precision    recall  f1-score   support\n",
      "\n",
      "           0       0.69      0.78      0.73     15723\n",
      "           1       0.75      0.66      0.70     15829\n",
      "\n",
      "    accuracy                           0.72     31552\n",
      "   macro avg       0.72      0.72      0.72     31552\n",
      "weighted avg       0.72      0.72      0.72     31552\n",
      "\n",
      "GradientBosting  Algo\n",
      "              precision    recall  f1-score   support\n",
      "\n",
      "           0       0.81      0.97      0.88     15723\n",
      "           1       0.96      0.77      0.86     15829\n",
      "\n",
      "    accuracy                           0.87     31552\n",
      "   macro avg       0.88      0.87      0.87     31552\n",
      "weighted avg       0.88      0.87      0.87     31552\n",
      "\n",
      "GradientBosting  Algo\n",
      "              precision    recall  f1-score   support\n",
      "\n",
      "           0       0.72      0.74      0.73     15723\n",
      "           1       0.73      0.71      0.72     15829\n",
      "\n",
      "    accuracy                           0.72     31552\n",
      "   macro avg       0.72      0.72      0.72     31552\n",
      "weighted avg       0.72      0.72      0.72     31552\n",
      "\n"
     ]
    },
    {
     "name": "stderr",
     "output_type": "stream",
     "text": [
      "C:\\Users\\Nadim\\anaconda3\\lib\\site-packages\\sklearn\\linear_model\\_logistic.py:762: ConvergenceWarning: lbfgs failed to converge (status=1):\n",
      "STOP: TOTAL NO. of ITERATIONS REACHED LIMIT.\n",
      "\n",
      "Increase the number of iterations (max_iter) or scale the data as shown in:\n",
      "    https://scikit-learn.org/stable/modules/preprocessing.html\n",
      "Please also refer to the documentation for alternative solver options:\n",
      "    https://scikit-learn.org/stable/modules/linear_model.html#logistic-regression\n",
      "  n_iter_i = _check_optimize_result(\n"
     ]
    }
   ],
   "source": [
    "# Gradient bossting\n",
    "gradient_bossting = GradientBoostingClassifier(random_state=3)\n",
    "gradient_bossting.fit(x_train,y_train)\n",
    "y_pred_gradientbossting = gradient_bossting.predict(x_test)\n",
    "print(\"GradientBosting  Algo\")\n",
    "print(classification_report(y_test, y_pred_gradientbossting))\n",
    "\n",
    "\n",
    "# SVM\n",
    "svm_class = svm.SVC(kernel='poly')\n",
    "svm_class.fit(x_train,y_train)\n",
    "y_pred_svm = svm_class.predict(x_test)\n",
    "print(\"SVM  Algo\")\n",
    "print(classification_report(y_test, y_pred_svm))\n",
    "\n",
    "\n",
    "# Logistic Regressor\n",
    "logis_reg =LogisticRegression()\n",
    "logis_reg.fit(x_train,y_train)\n",
    "y_pred_log = logis_reg.predict(x_test)\n",
    "print(\"Logistic Reg  Algo\")\n",
    "print(classification_report(y_test, y_pred_log))"
   ]
  },
  {
   "cell_type": "code",
   "execution_count": 17,
   "metadata": {
    "scrolled": true
   },
   "outputs": [
    {
     "name": "stdout",
     "output_type": "stream",
     "text": [
      "Random Forest  Classifier\n",
      "              precision    recall  f1-score   support\n",
      "\n",
      "           0       0.87      0.91      0.89     15723\n",
      "           1       0.91      0.87      0.89     15829\n",
      "\n",
      "    accuracy                           0.89     31552\n",
      "   macro avg       0.89      0.89      0.89     31552\n",
      "weighted avg       0.89      0.89      0.89     31552\n",
      "\n"
     ]
    }
   ],
   "source": [
    "# Random Forest  Classifier\n",
    "random_forest = RandomForestClassifier()\n",
    "random_forest.fit(x_train,y_train)\n",
    "y_pred_random_forest = random_forest.predict(x_test)\n",
    "print(\"Random Forest  Classifier\")\n",
    "print(classification_report(y_test, y_pred_random_forest))"
   ]
  },
  {
   "cell_type": "code",
   "execution_count": 13,
   "metadata": {},
   "outputs": [],
   "source": [
    "X1 = np.array(X_v1)\n",
    "Y1 = np.array(Y_v1)"
   ]
  },
  {
   "cell_type": "code",
   "execution_count": 14,
   "metadata": {},
   "outputs": [
    {
     "data": {
      "text/plain": [
       "10"
      ]
     },
     "execution_count": 14,
     "metadata": {},
     "output_type": "execute_result"
    }
   ],
   "source": [
    "from sklearn.model_selection import StratifiedKFold\n",
    "folds = StratifiedKFold(n_splits=10,random_state=None)\n",
    "folds.get_n_splits(X_v1,Y_v1)"
   ]
  },
  {
   "cell_type": "code",
   "execution_count": 16,
   "metadata": {
    "scrolled": true
   },
   "outputs": [
    {
     "name": "stdout",
     "output_type": "stream",
     "text": [
      "Train Index:  [  6558   6559   6560 ... 105169 105170 105171] \n",
      "\n",
      "Test Index:  [    0     1     2 ... 57842 57843 57844]\n",
      "Train Index:  [     0      1      2 ... 105169 105170 105171] \n",
      "\n",
      "Test Index:  [ 6558  6559  6560 ... 63101 63102 63103]\n",
      "Train Index:  [     0      1      2 ... 105169 105170 105171] \n",
      "\n",
      "Test Index:  [11817 11818 11819 ... 68360 68361 68362]\n",
      "Train Index:  [     0      1      2 ... 105169 105170 105171] \n",
      "\n",
      "Test Index:  [17075 17076 17077 ... 73619 73620 73621]\n",
      "Train Index:  [     0      1      2 ... 105169 105170 105171] \n",
      "\n",
      "Test Index:  [22333 22334 22335 ... 78878 78879 78880]\n",
      "Train Index:  [     0      1      2 ... 105169 105170 105171] \n",
      "\n",
      "Test Index:  [27591 27592 27593 ... 84137 84138 84139]\n",
      "Train Index:  [     0      1      2 ... 105169 105170 105171] \n",
      "\n",
      "Test Index:  [32849 32850 32851 ... 89395 89396 89397]\n",
      "Train Index:  [     0      1      2 ... 105169 105170 105171] \n",
      "\n",
      "Test Index:  [38108 38109 38110 ... 94653 94654 94655]\n",
      "Train Index:  [     0      1      2 ... 105169 105170 105171] \n",
      "\n",
      "Test Index:  [43367 43368 43369 ... 99911 99912 99913]\n",
      "Train Index:  [    0     1     2 ... 99911 99912 99913] \n",
      "\n",
      "Test Index:  [ 48626  48627  48628 ... 105169 105170 105171]\n"
     ]
    }
   ],
   "source": [
    "accurecy = []\n",
    "for train_index, test_index in folds.split(X_v1,Y_v1):\n",
    "    print(\"Train Index: \", train_index, \"\\n\")\n",
    "    print(\"Test Index: \", test_index)\n",
    "    X_train, X_test, y_train, y_test = X_v1[train_index], X_v1[test_index], Y_v1[train_index], Y_v1[test_index]\n",
    "    random_forest = RandomForestClassifier()\n",
    "    random_forest.fit(X_train,y_train)\n",
    "    prediction = random_forest.predict(X_test)\n",
    "    score = accuracy_score(prediction,y_test)\n",
    "    accurecy.append(score)    "
   ]
  },
  {
   "cell_type": "code",
   "execution_count": 21,
   "metadata": {},
   "outputs": [
    {
     "name": "stdout",
     "output_type": "stream",
     "text": [
      "              precision    recall  f1-score   support\n",
      "\n",
      "           0       0.95      0.95      0.95      5258\n",
      "           1       0.95      0.95      0.95      5259\n",
      "\n",
      "    accuracy                           0.95     10517\n",
      "   macro avg       0.95      0.95      0.95     10517\n",
      "weighted avg       0.95      0.95      0.95     10517\n",
      "\n"
     ]
    }
   ],
   "source": [
    "print(classification_report(y_test, prediction))"
   ]
  },
  {
   "cell_type": "code",
   "execution_count": 17,
   "metadata": {},
   "outputs": [
    {
     "data": {
      "text/plain": [
       "0.900717878096407"
      ]
     },
     "execution_count": 17,
     "metadata": {},
     "output_type": "execute_result"
    }
   ],
   "source": [
    "np.array(accurecy).mean()"
   ]
  },
  {
   "cell_type": "code",
   "execution_count": 18,
   "metadata": {},
   "outputs": [],
   "source": [
    "from sklearn.metrics import roc_auc_score\n",
    "from sklearn.metrics import roc_curve\n",
    "import seaborn as sns\n",
    "import numpy as np\n",
    "import matplotlib.pyplot as plt \n",
    "%matplotlib inline\n",
    "from sklearn import metrics"
   ]
  },
  {
   "cell_type": "code",
   "execution_count": 19,
   "metadata": {},
   "outputs": [
    {
     "data": {
      "image/png": "[encoded data removed]",
      "text/plain": [
       "<Figure size 432x288 with 1 Axes>"
      ]
     },
     "metadata": {
      "needs_background": "light"
     },
     "output_type": "display_data"
    }
   ],
   "source": [
    "ranfor_roc_auc = roc_auc_score(y_test, random_forest.predict(X_test))\n",
    "fpr, tpr, thresholds = roc_curve(y_test, random_forest.predict_proba(X_test)[:,1])\n",
    "plt.figure()\n",
    "plt.plot(fpr, tpr, label='RandomForest Classifier (area = %0.2f)' % ranfor_roc_auc)\n",
    "plt.plot([0, 1], [0, 1],'r--')\n",
    "plt.xlim([0.0, 1.0])\n",
    "plt.ylim([0.0, 1.05])\n",
    "plt.xlabel('False Positive Rate')\n",
    "plt.ylabel('True Positive Rate')\n",
    "plt.title('Receiver operating characteristic (ROC)')\n",
    "plt.legend(loc=\"lower right\")\n",
    "plt.savefig('Ranfor_ROC')\n",
    "plt.show()"
   ]
  },
  {
   "cell_type": "code",
   "execution_count": 22,
   "metadata": {},
   "outputs": [
    {
     "data": {
      "text/plain": [
       "[0.66447993915193,\n",
       " 0.8362806617227609,\n",
       " 0.9348673576114862,\n",
       " 0.9315394123799563,\n",
       " 0.9381002186935438,\n",
       " 0.9389559760387943,\n",
       " 0.9400969858324617,\n",
       " 0.9381002186935438,\n",
       " 0.9336312636683465,\n",
       " 0.9511267471712466]"
      ]
     },
     "execution_count": 22,
     "metadata": {},
     "output_type": "execute_result"
    }
   ],
   "source": [
    "accurecy"
   ]
  },
  {
   "cell_type": "code",
   "execution_count": 13,
   "metadata": {},
   "outputs": [],
   "source": [
    "import numpy as np\n",
    "from scipy import interp\n",
    "import matplotlib.pyplot as plt\n",
    "from itertools import cycle\n",
    "\n",
    "from sklearn import svm, datasets\n",
    "from sklearn.metrics import roc_curve, auc\n",
    "from sklearn.model_selection import StratifiedKFold"
   ]
  },
  {
   "cell_type": "code",
   "execution_count": null,
   "metadata": {},
   "outputs": [],
   "source": [
    "X_v1,Y_v1"
   ]
  },
  {
   "cell_type": "code",
   "execution_count": 17,
   "metadata": {},
   "outputs": [
    {
     "name": "stderr",
     "output_type": "stream",
     "text": [
      "<ipython-input-17-21b6bdb96f16>:15: DeprecationWarning: scipy.interp is deprecated and will be removed in SciPy 2.0.0, use numpy.interp instead\n",
      "  tprs.append(interp(mean_fpr, fpr, tpr))\n",
      "<ipython-input-17-21b6bdb96f16>:15: DeprecationWarning: scipy.interp is deprecated and will be removed in SciPy 2.0.0, use numpy.interp instead\n",
      "  tprs.append(interp(mean_fpr, fpr, tpr))\n",
      "<ipython-input-17-21b6bdb96f16>:15: DeprecationWarning: scipy.interp is deprecated and will be removed in SciPy 2.0.0, use numpy.interp instead\n",
      "  tprs.append(interp(mean_fpr, fpr, tpr))\n",
      "<ipython-input-17-21b6bdb96f16>:15: DeprecationWarning: scipy.interp is deprecated and will be removed in SciPy 2.0.0, use numpy.interp instead\n",
      "  tprs.append(interp(mean_fpr, fpr, tpr))\n",
      "<ipython-input-17-21b6bdb96f16>:15: DeprecationWarning: scipy.interp is deprecated and will be removed in SciPy 2.0.0, use numpy.interp instead\n",
      "  tprs.append(interp(mean_fpr, fpr, tpr))\n",
      "<ipython-input-17-21b6bdb96f16>:15: DeprecationWarning: scipy.interp is deprecated and will be removed in SciPy 2.0.0, use numpy.interp instead\n",
      "  tprs.append(interp(mean_fpr, fpr, tpr))\n",
      "<ipython-input-17-21b6bdb96f16>:15: DeprecationWarning: scipy.interp is deprecated and will be removed in SciPy 2.0.0, use numpy.interp instead\n",
      "  tprs.append(interp(mean_fpr, fpr, tpr))\n",
      "<ipython-input-17-21b6bdb96f16>:15: DeprecationWarning: scipy.interp is deprecated and will be removed in SciPy 2.0.0, use numpy.interp instead\n",
      "  tprs.append(interp(mean_fpr, fpr, tpr))\n",
      "<ipython-input-17-21b6bdb96f16>:15: DeprecationWarning: scipy.interp is deprecated and will be removed in SciPy 2.0.0, use numpy.interp instead\n",
      "  tprs.append(interp(mean_fpr, fpr, tpr))\n",
      "<ipython-input-17-21b6bdb96f16>:15: DeprecationWarning: scipy.interp is deprecated and will be removed in SciPy 2.0.0, use numpy.interp instead\n",
      "  tprs.append(interp(mean_fpr, fpr, tpr))\n"
     ]
    },
    {
     "data": {
      "image/png": "[encoded data removed]",
      "text/plain": [
       "<Figure size 720x720 with 1 Axes>"
      ]
     },
     "metadata": {
      "needs_background": "light"
     },
     "output_type": "display_data"
    }
   ],
   "source": [
    "# Classification and ROC analysis\n",
    "classifier = RandomForestClassifier()\n",
    "cv = StratifiedKFold(n_splits=10)\n",
    "\n",
    "\n",
    "tprs = []\n",
    "aucs = []\n",
    "mean_fpr = np.linspace(0, 1, 100)\n",
    "plt.figure(figsize=(10,10))\n",
    "i = 0\n",
    "for train, test in cv.split(X_v1, Y_v1):\n",
    "    probas_ = classifier.fit(X_v1[train], Y_v1[train]).predict_proba(X_v1[test])\n",
    "    # Compute ROC curve and area the curve\n",
    "    fpr, tpr, thresholds = roc_curve(Y_v1[test], probas_[:, 1])\n",
    "    tprs.append(interp(mean_fpr, fpr, tpr))\n",
    "    tprs[-1][0] = 0.0\n",
    "    roc_auc = auc(fpr, tpr)\n",
    "    aucs.append(roc_auc)\n",
    "    plt.plot(fpr, tpr, lw=1, alpha=0.3,\n",
    "             label='ROC fold %d (AUC = %0.2f)' % (i, roc_auc))\n",
    "\n",
    "    i += 1\n",
    "plt.plot([0, 1], [0, 1], linestyle='--', lw=2, color='r',\n",
    "         label='Chance', alpha=.8)\n",
    "\n",
    "mean_tpr = np.mean(tprs, axis=0)\n",
    "mean_tpr[-1] = 1.0\n",
    "mean_auc = auc(mean_fpr, mean_tpr)\n",
    "std_auc = np.std(aucs)\n",
    "plt.plot(mean_fpr, mean_tpr, color='b',\n",
    "         label=r'Mean ROC (AUC = %0.2f $\\pm$ %0.2f)' % (mean_auc, std_auc),\n",
    "         lw=2, alpha=.8)\n",
    "\n",
    "std_tpr = np.std(tprs, axis=0)\n",
    "tprs_upper = np.minimum(mean_tpr + std_tpr, 1)\n",
    "tprs_lower = np.maximum(mean_tpr - std_tpr, 0)\n",
    "plt.fill_between(mean_fpr, tprs_lower, tprs_upper, color='grey', alpha=.2,\n",
    "                 label=r'$\\pm$ 1 std. dev.')\n",
    "\n",
    "plt.xlim([-0.01, 1.01])\n",
    "plt.ylim([-0.01, 1.01])\n",
    "plt.xlabel('False Positive Rate',fontsize=18)\n",
    "plt.ylabel('True Positive Rate',fontsize=18)\n",
    "plt.title('Cross-Validation ROC of Random Forest',fontsize=18)\n",
    "plt.legend(loc=\"lower right\", prop={'size': 15})\n",
    "plt.show()"
   ]
  },
  {
   "cell_type": "code",
   "execution_count": null,
   "metadata": {},
   "outputs": [],
   "source": []
  }
 ],
 "metadata": {
  "kernelspec": {
   "display_name": "Python 3",
   "language": "python",
   "name": "python3"
  },
  "language_info": {
   "codemirror_mode": {
    "name": "ipython",
    "version": 3
   },
   "file_extension": ".py",
   "mimetype": "text/x-python",
   "name": "python",
   "nbconvert_exporter": "python",
   "pygments_lexer": "ipython3",
   "version": "3.8.3"
  }
 },
 "nbformat": 4,
 "nbformat_minor": 4
}
