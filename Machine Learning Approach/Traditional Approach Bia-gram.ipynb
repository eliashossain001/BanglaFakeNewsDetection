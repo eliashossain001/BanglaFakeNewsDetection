{
 "cells": [
  {
   "cell_type": "code",
   "execution_count": 1,
   "metadata": {},
   "outputs": [],
   "source": [
    "import pandas as pd\n",
    "import numpy as np\n",
    "from sklearn.model_selection import train_test_split,GridSearchCV\n",
    "from sklearn.metrics import accuracy_score, confusion_matrix, roc_curve, roc_auc_score\n",
    "\n",
    "from sklearn.feature_extraction.text import TfidfVectorizer\n",
    "from sklearn.tree import DecisionTreeClassifier\n",
    "from sklearn.linear_model import LogisticRegression\n",
    "from sklearn.svm import SVC\n",
    "from sklearn.ensemble import RandomForestClassifier\n",
    "from sklearn.neighbors import KNeighborsClassifier\n",
    "from sklearn.naive_bayes import GaussianNB\n",
    "from sklearn.naive_bayes import MultinomialNB\n",
    "from sklearn.metrics import accuracy_score, classification_report, confusion_matrix\n",
    "from sklearn.model_selection import cross_val_score\n",
    "from sklearn.datasets import make_classification\n",
    "from sklearn.ensemble import GradientBoostingClassifier\n",
    "\n",
    "import sklearn\n",
    "from imblearn.combine import SMOTETomek\n",
    "from imblearn.under_sampling import NearMiss\n",
    "from imblearn.over_sampling import RandomOverSampler\n",
    "from sklearn.svm import SVC\n",
    "from sklearn.linear_model import LogisticRegression\n",
    "from sklearn import svm"
   ]
  },
  {
   "cell_type": "code",
   "execution_count": 2,
   "metadata": {},
   "outputs": [],
   "source": [
    "merge_data = pd.read_csv('../Data/Updated Data_V1.csv')"
   ]
  },
  {
   "cell_type": "code",
   "execution_count": 3,
   "metadata": {},
   "outputs": [],
   "source": [
    "merge_data.drop('Unnamed: 0',inplace=True,axis = 1)"
   ]
  },
  {
   "cell_type": "code",
   "execution_count": 4,
   "metadata": {},
   "outputs": [],
   "source": [
    "# For Bigram\n",
    "tfidf_biagram = TfidfVectorizer(sublinear_tf=True,\n",
    "                            analyzer='word',\n",
    "                            ngram_range=(2, 2),\n",
    "                            max_features=8000)"
   ]
  },
  {
   "cell_type": "code",
   "execution_count": 5,
   "metadata": {},
   "outputs": [],
   "source": [
    "X_biagram = tfidf_biagram.fit_transform(merge_data['headline_v4'])"
   ]
  },
  {
   "cell_type": "code",
   "execution_count": 6,
   "metadata": {},
   "outputs": [],
   "source": [
    "Y_biagram = merge_data['label']"
   ]
  },
  {
   "cell_type": "code",
   "execution_count": 7,
   "metadata": {},
   "outputs": [
    {
     "data": {
      "text/plain": [
       "((57115,), (57115, 8000))"
      ]
     },
     "execution_count": 7,
     "metadata": {},
     "output_type": "execute_result"
    }
   ],
   "source": [
    "Y_biagram.shape,X_biagram.shape"
   ]
  },
  {
   "cell_type": "code",
   "execution_count": 8,
   "metadata": {},
   "outputs": [],
   "source": [
    "smk_biagram = SMOTETomek(random_state=42)\n",
    "X_biagram_v1,Y_biagram_v1=smk_biagram.fit_sample(X_biagram,Y_biagram)"
   ]
  },
  {
   "cell_type": "code",
   "execution_count": 9,
   "metadata": {},
   "outputs": [
    {
     "name": "stdout",
     "output_type": "stream",
     "text": [
      "Original dataset shape Counter({1: 52588, 0: 4527})\n",
      "Resampled dataset shape Counter({0: 52588, 1: 52588})\n"
     ]
    }
   ],
   "source": [
    "from collections import Counter\n",
    "print('Original dataset shape {}'.format(Counter(Y_biagram)))\n",
    "print('Resampled dataset shape {}'.format(Counter(Y_biagram_v1)))"
   ]
  },
  {
   "cell_type": "code",
   "execution_count": 10,
   "metadata": {},
   "outputs": [],
   "source": [
    "# data Split\n",
    "# Biagram Model\n",
    "# let's see how well our model perform on this new data\n",
    "x_train_biagram,x_test_biagram,y_train_biagram,y_test_biagram = train_test_split(X_biagram_v1,Y_biagram_v1,test_size = 0.30, random_state= True)"
   ]
  },
  {
   "cell_type": "code",
   "execution_count": 11,
   "metadata": {},
   "outputs": [
    {
     "name": "stdout",
     "output_type": "stream",
     "text": [
      "Decission Tree Classifier\n",
      "              precision    recall  f1-score   support\n",
      "\n",
      "           0       0.69      0.92      0.79     15734\n",
      "           1       0.88      0.59      0.71     15819\n",
      "\n",
      "    accuracy                           0.76     31553\n",
      "   macro avg       0.79      0.76      0.75     31553\n",
      "weighted avg       0.79      0.76      0.75     31553\n",
      "\n",
      "Random Forest  Classifier\n",
      "              precision    recall  f1-score   support\n",
      "\n",
      "           0       0.70      0.93      0.80     15734\n",
      "           1       0.90      0.61      0.73     15819\n",
      "\n",
      "    accuracy                           0.77     31553\n",
      "   macro avg       0.80      0.77      0.76     31553\n",
      "weighted avg       0.80      0.77      0.76     31553\n",
      "\n",
      "KNN  Algo\n",
      "              precision    recall  f1-score   support\n",
      "\n",
      "           0       0.64      0.94      0.76     15734\n",
      "           1       0.90      0.47      0.62     15819\n",
      "\n",
      "    accuracy                           0.71     31553\n",
      "   macro avg       0.77      0.71      0.69     31553\n",
      "weighted avg       0.77      0.71      0.69     31553\n",
      "\n",
      "Multinomial Naive Bias\n",
      "              precision    recall  f1-score   support\n",
      "\n",
      "           0       0.66      0.90      0.76     15734\n",
      "           1       0.84      0.53      0.65     15819\n",
      "\n",
      "    accuracy                           0.71     31553\n",
      "   macro avg       0.75      0.72      0.71     31553\n",
      "weighted avg       0.75      0.71      0.71     31553\n",
      "\n",
      "GradientBosting  Algo\n",
      "              precision    recall  f1-score   support\n",
      "\n",
      "           0       0.55      0.96      0.70     15734\n",
      "           1       0.84      0.21      0.33     15819\n",
      "\n",
      "    accuracy                           0.58     31553\n",
      "   macro avg       0.69      0.58      0.51     31553\n",
      "weighted avg       0.70      0.58      0.51     31553\n",
      "\n",
      "SVM  Algo\n",
      "              precision    recall  f1-score   support\n",
      "\n",
      "           0       0.67      0.96      0.79     15734\n",
      "           1       0.93      0.54      0.68     15819\n",
      "\n",
      "    accuracy                           0.75     31553\n",
      "   macro avg       0.80      0.75      0.74     31553\n",
      "weighted avg       0.80      0.75      0.74     31553\n",
      "\n",
      "Logistic Reg  Algo\n",
      "              precision    recall  f1-score   support\n",
      "\n",
      "           0       0.68      0.89      0.77     15734\n",
      "           1       0.84      0.58      0.68     15819\n",
      "\n",
      "    accuracy                           0.73     31553\n",
      "   macro avg       0.76      0.73      0.73     31553\n",
      "weighted avg       0.76      0.73      0.73     31553\n",
      "\n"
     ]
    },
    {
     "name": "stderr",
     "output_type": "stream",
     "text": [
      "C:\\Users\\Nadim\\anaconda3\\lib\\site-packages\\sklearn\\linear_model\\_logistic.py:762: ConvergenceWarning: lbfgs failed to converge (status=1):\n",
      "STOP: TOTAL NO. of ITERATIONS REACHED LIMIT.\n",
      "\n",
      "Increase the number of iterations (max_iter) or scale the data as shown in:\n",
      "    https://scikit-learn.org/stable/modules/preprocessing.html\n",
      "Please also refer to the documentation for alternative solver options:\n",
      "    https://scikit-learn.org/stable/modules/linear_model.html#logistic-regression\n",
      "  n_iter_i = _check_optimize_result(\n"
     ]
    }
   ],
   "source": [
    "# Decission Tree Classifier\n",
    "decession_tree_biagram = DecisionTreeClassifier()\n",
    "decession_tree_biagram.fit(x_train_biagram,y_train_biagram)\n",
    "y_pred_decession_tree_biagram = decession_tree_biagram.predict(x_test_biagram)\n",
    "print(\"Decission Tree Classifier\")\n",
    "print(classification_report(y_test_biagram, y_pred_decession_tree_biagram))\n",
    "\n",
    "\n",
    "# Random Forest  Classifier\n",
    "random_forest_biagram = RandomForestClassifier()\n",
    "random_forest_biagram.fit(x_train_biagram,y_train_biagram)\n",
    "y_pred_random_forest_biagram = random_forest_biagram.predict(x_test_biagram)\n",
    "print(\"Random Forest  Classifier\")\n",
    "print(classification_report(y_test_biagram, y_pred_random_forest_biagram))\n",
    "\n",
    "\n",
    "# KNN  Algo\n",
    "knn_classifier_biagram = KNeighborsClassifier()\n",
    "knn_classifier_biagram.fit(x_train_biagram,y_train_biagram)\n",
    "y_pred_knn_classifier_bigram = knn_classifier_biagram.predict(x_test_biagram)\n",
    "print(\"KNN  Algo\")\n",
    "print(classification_report(y_test_biagram, y_pred_knn_classifier_bigram))\n",
    "\n",
    "\n",
    "# Multinomial Naive Bias\n",
    "mulNB_biagram  = MultinomialNB()\n",
    "mulNB_biagram.fit(x_train_biagram,y_train_biagram)\n",
    "y_pred_mulNB_biagram = mulNB_biagram.predict(x_test_biagram)\n",
    "print(\"Multinomial Naive Bias\")\n",
    "print(classification_report(y_test_biagram, y_pred_mulNB_biagram))\n",
    "\n",
    "\n",
    "# Gradient bossting\n",
    "gradient_bossting_biagram  = GradientBoostingClassifier(random_state=3)\n",
    "gradient_bossting_biagram.fit(x_train_biagram,y_train_biagram)\n",
    "y_pred_gradientbossting = gradient_bossting_biagram.predict(x_test_biagram)\n",
    "print(\"GradientBosting  Algo\")\n",
    "print(classification_report(y_test_biagram, y_pred_gradientbossting))\n",
    "\n",
    "# SVM\n",
    "svm_class_biagram = svm.SVC(kernel='poly')\n",
    "svm_class_biagram.fit(x_train_biagram,y_train_biagram)\n",
    "y_pred_svm = svm_class_biagram.predict(x_test_biagram)\n",
    "print(\"SVM  Algo\")\n",
    "print(classification_report(y_test_biagram, y_pred_svm))\n",
    "\n",
    "\n",
    "\n",
    "# Logistic Regressor\n",
    "logis_reg_bia =LogisticRegression()\n",
    "logis_reg_bia.fit(x_train_biagram,y_train_biagram)\n",
    "y_pred_log = logis_reg_bia.predict(x_test_biagram)\n",
    "print(\"Logistic Reg  Algo\")\n",
    "print(classification_report(y_test_biagram, y_pred_log))"
   ]
  },
  {
   "cell_type": "code",
   "execution_count": null,
   "metadata": {},
   "outputs": [],
   "source": []
  },
  {
   "cell_type": "code",
   "execution_count": null,
   "metadata": {},
   "outputs": [],
   "source": []
  },
  {
   "cell_type": "code",
   "execution_count": null,
   "metadata": {},
   "outputs": [],
   "source": []
  },
  {
   "cell_type": "code",
   "execution_count": null,
   "metadata": {},
   "outputs": [],
   "source": []
  },
  {
   "cell_type": "code",
   "execution_count": null,
   "metadata": {},
   "outputs": [],
   "source": []
  },
  {
   "cell_type": "code",
   "execution_count": null,
   "metadata": {},
   "outputs": [],
   "source": []
  }
 ],
 "metadata": {
  "kernelspec": {
   "display_name": "Python 3",
   "language": "python",
   "name": "python3"
  },
  "language_info": {
   "codemirror_mode": {
    "name": "ipython",
    "version": 3
   },
   "file_extension": ".py",
   "mimetype": "text/x-python",
   "name": "python",
   "nbconvert_exporter": "python",
   "pygments_lexer": "ipython3",
   "version": "3.8.3"
  }
 },
 "nbformat": 4,
 "nbformat_minor": 4
}
