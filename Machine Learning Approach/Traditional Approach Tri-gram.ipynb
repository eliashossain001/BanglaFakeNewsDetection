{
 "cells": [
  {
   "cell_type": "code",
   "execution_count": 1,
   "metadata": {},
   "outputs": [],
   "source": [
    "import pandas as pd\n",
    "import numpy as np\n",
    "from sklearn.model_selection import train_test_split,GridSearchCV\n",
    "from sklearn.metrics import accuracy_score, confusion_matrix, roc_curve, roc_auc_score\n",
    "\n",
    "from sklearn.feature_extraction.text import TfidfVectorizer\n",
    "from sklearn.tree import DecisionTreeClassifier\n",
    "from sklearn.linear_model import LogisticRegression\n",
    "from sklearn.svm import SVC\n",
    "from sklearn.ensemble import RandomForestClassifier\n",
    "from sklearn.neighbors import KNeighborsClassifier\n",
    "from sklearn.naive_bayes import GaussianNB\n",
    "from sklearn.naive_bayes import MultinomialNB\n",
    "from sklearn.metrics import accuracy_score, classification_report, confusion_matrix\n",
    "from sklearn.model_selection import cross_val_score\n",
    "from sklearn.datasets import make_classification\n",
    "from sklearn.ensemble import GradientBoostingClassifier\n",
    "\n",
    "import sklearn\n",
    "from imblearn.combine import SMOTETomek\n",
    "from imblearn.under_sampling import NearMiss\n",
    "from imblearn.over_sampling import RandomOverSampler\n",
    "from sklearn.svm import SVC\n",
    "from sklearn.linear_model import LogisticRegression\n",
    "from sklearn import svm"
   ]
  },
  {
   "cell_type": "code",
   "execution_count": 2,
   "metadata": {},
   "outputs": [],
   "source": [
    "merge_data = pd.read_csv('../Data/Updated Data_V1.csv')"
   ]
  },
  {
   "cell_type": "code",
   "execution_count": 3,
   "metadata": {},
   "outputs": [],
   "source": [
    "merge_data.drop('Unnamed: 0',inplace=True,axis = 1)"
   ]
  },
  {
   "cell_type": "code",
   "execution_count": 4,
   "metadata": {},
   "outputs": [],
   "source": [
    "# For triagram\n",
    "tfidf_triagram = TfidfVectorizer(sublinear_tf=True,\n",
    "                            analyzer='word',\n",
    "                            ngram_range=(3, 3),\n",
    "                            max_features=8000)"
   ]
  },
  {
   "cell_type": "code",
   "execution_count": 5,
   "metadata": {},
   "outputs": [],
   "source": [
    "X_tiagram = tfidf_triagram.fit_transform(merge_data['headline_v4'])"
   ]
  },
  {
   "cell_type": "code",
   "execution_count": 6,
   "metadata": {},
   "outputs": [],
   "source": [
    "Y_tiagram = merge_data['label']"
   ]
  },
  {
   "cell_type": "code",
   "execution_count": 7,
   "metadata": {},
   "outputs": [],
   "source": [
    "smk_tiagram = SMOTETomek(random_state=42)\n",
    "X_tiagram_v1,Y_tiagram_v1=smk_tiagram.fit_sample(X_tiagram,Y_tiagram)"
   ]
  },
  {
   "cell_type": "code",
   "execution_count": 8,
   "metadata": {},
   "outputs": [
    {
     "name": "stdout",
     "output_type": "stream",
     "text": [
      "Original dataset shape Counter({1: 52588, 0: 4527})\n",
      "Resampled dataset shape Counter({0: 52588, 1: 52588})\n"
     ]
    }
   ],
   "source": [
    "from collections import Counter\n",
    "print('Original dataset shape {}'.format(Counter(Y_tiagram)))\n",
    "print('Resampled dataset shape {}'.format(Counter(Y_tiagram_v1)))"
   ]
  },
  {
   "cell_type": "code",
   "execution_count": 9,
   "metadata": {},
   "outputs": [],
   "source": [
    "# data Split\n",
    "# Biagram Model\n",
    "# let's see how well our model perform on this new data\n",
    "x_train_tiagram,x_test_tiagram,y_train_tiagram,y_test_tiagram = train_test_split(X_tiagram_v1,Y_tiagram_v1,test_size = 0.30, random_state= True)"
   ]
  },
  {
   "cell_type": "code",
   "execution_count": null,
   "metadata": {},
   "outputs": [
    {
     "name": "stdout",
     "output_type": "stream",
     "text": [
      "Decission Tree Classifier\n",
      "              precision    recall  f1-score   support\n",
      "\n",
      "           0       0.58      0.97      0.73     15734\n",
      "           1       0.91      0.31      0.46     15819\n",
      "\n",
      "    accuracy                           0.64     31553\n",
      "   macro avg       0.74      0.64      0.59     31553\n",
      "weighted avg       0.74      0.64      0.59     31553\n",
      "\n",
      "Random Forest  Classifier\n",
      "              precision    recall  f1-score   support\n",
      "\n",
      "           0       0.59      0.97      0.73     15734\n",
      "           1       0.91      0.32      0.47     15819\n",
      "\n",
      "    accuracy                           0.64     31553\n",
      "   macro avg       0.75      0.64      0.60     31553\n",
      "weighted avg       0.75      0.64      0.60     31553\n",
      "\n",
      "KNN  Algo\n",
      "              precision    recall  f1-score   support\n",
      "\n",
      "           0       0.78      0.31      0.44     15734\n",
      "           1       0.57      0.92      0.70     15819\n",
      "\n",
      "    accuracy                           0.61     31553\n",
      "   macro avg       0.68      0.61      0.57     31553\n",
      "weighted avg       0.68      0.61      0.57     31553\n",
      "\n",
      "Multinomial Naive Bias\n",
      "              precision    recall  f1-score   support\n",
      "\n",
      "           0       0.58      0.97      0.73     15734\n",
      "           1       0.92      0.29      0.44     15819\n",
      "\n",
      "    accuracy                           0.63     31553\n",
      "   macro avg       0.75      0.63      0.58     31553\n",
      "weighted avg       0.75      0.63      0.58     31553\n",
      "\n",
      "GradientBosting  Algo\n",
      "              precision    recall  f1-score   support\n",
      "\n",
      "           0       0.89      0.06      0.12     15734\n",
      "           1       0.52      0.99      0.68     15819\n",
      "\n",
      "    accuracy                           0.53     31553\n",
      "   macro avg       0.70      0.53      0.40     31553\n",
      "weighted avg       0.70      0.53      0.40     31553\n",
      "\n"
     ]
    }
   ],
   "source": [
    "# Decission Tree Classifier\n",
    "decession_tree_tiagram = DecisionTreeClassifier()\n",
    "decession_tree_tiagram.fit(x_train_tiagram,y_train_tiagram)\n",
    "y_pred_decession_tree_tiagram = decession_tree_tiagram.predict(x_test_tiagram)\n",
    "print(\"Decission Tree Classifier\")\n",
    "print(classification_report(y_test_tiagram, y_pred_decession_tree_tiagram))\n",
    "\n",
    "\n",
    "# Random Forest  Classifier\n",
    "random_forest_tiagram = RandomForestClassifier()\n",
    "random_forest_tiagram.fit(x_train_tiagram,y_train_tiagram)\n",
    "y_pred_random_forest_tiagram = random_forest_tiagram.predict(x_test_tiagram)\n",
    "print(\"Random Forest  Classifier\")\n",
    "print(classification_report(y_test_tiagram, y_pred_random_forest_tiagram))\n",
    "\n",
    "\n",
    "# KNN  Algo\n",
    "knn_classifier_tiagram = KNeighborsClassifier()\n",
    "knn_classifier_tiagram.fit(x_train_tiagram,y_train_tiagram)\n",
    "y_pred_knn_classifier_tigram = knn_classifier_tiagram.predict(x_test_tiagram)\n",
    "print(\"KNN  Algo\")\n",
    "print(classification_report(y_test_tiagram, y_pred_knn_classifier_tigram))\n",
    "\n",
    "\n",
    "# Multinomial Naive Bias\n",
    "mulNB_tiagram  = MultinomialNB()\n",
    "mulNB_tiagram.fit(x_train_tiagram,y_train_tiagram)\n",
    "y_pred_mulNB_tiagram = mulNB_tiagram.predict(x_test_tiagram)\n",
    "print(\"Multinomial Naive Bias\")\n",
    "print(classification_report(y_test_tiagram, y_pred_mulNB_tiagram))\n",
    "\n",
    "\n",
    "# Gradient bossting\n",
    "gradient_bossting_tiagram  = GradientBoostingClassifier(random_state=3)\n",
    "gradient_bossting_tiagram.fit(x_train_tiagram,y_train_tiagram)\n",
    "y_pred_gradientbossting = gradient_bossting_tiagram.predict(x_test_tiagram)\n",
    "print(\"GradientBosting  Algo\")\n",
    "print(classification_report(y_test_tiagram, y_pred_gradientbossting))\n",
    "\n",
    "# SVM\n",
    "svm_class_tiagram = svm.SVC(kernel='poly')\n",
    "svm_class_tiagram.fit(x_train_tiagram,y_train_tiagram)\n",
    "y_pred_svm = svm_class_tiagram.predict(x_test_tiagram)\n",
    "print(\"SVM  Algo\")\n",
    "print(classification_report(y_test_tiagram, y_pred_svm))\n",
    "\n",
    "\n",
    "\n",
    "# Logistic Regressor\n",
    "logis_reg_tia =LogisticRegression()\n",
    "logis_reg_tia.fit(x_train_tiagram,y_train_tiagram)\n",
    "y_pred_log = logis_reg_tia.predict(x_test_tiagram)\n",
    "print(\"Logistic Reg  Algo\")\n",
    "print(classification_report(y_test_tiagram, y_pred_log))\n"
   ]
  },
  {
   "cell_type": "code",
   "execution_count": 10,
   "metadata": {},
   "outputs": [
    {
     "name": "stdout",
     "output_type": "stream",
     "text": [
      "SVM  Algo\n",
      "              precision    recall  f1-score   support\n",
      "\n",
      "           0       0.58      0.98      0.73     15734\n",
      "           1       0.93      0.28      0.43     15819\n",
      "\n",
      "    accuracy                           0.63     31553\n",
      "   macro avg       0.75      0.63      0.58     31553\n",
      "weighted avg       0.75      0.63      0.58     31553\n",
      "\n",
      "Logistic Reg  Algo\n",
      "              precision    recall  f1-score   support\n",
      "\n",
      "           0       0.58      0.96      0.73     15734\n",
      "           1       0.90      0.31      0.46     15819\n",
      "\n",
      "    accuracy                           0.64     31553\n",
      "   macro avg       0.74      0.64      0.59     31553\n",
      "weighted avg       0.74      0.64      0.59     31553\n",
      "\n"
     ]
    }
   ],
   "source": [
    "# SVM\n",
    "svm_class_tiagram = svm.SVC(kernel='poly')\n",
    "svm_class_tiagram.fit(x_train_tiagram,y_train_tiagram)\n",
    "y_pred_svm = svm_class_tiagram.predict(x_test_tiagram)\n",
    "print(\"SVM  Algo\")\n",
    "print(classification_report(y_test_tiagram, y_pred_svm))\n",
    "\n",
    "\n",
    "\n",
    "# Logistic Regressor\n",
    "logis_reg_tia =LogisticRegression()\n",
    "logis_reg_tia.fit(x_train_tiagram,y_train_tiagram)\n",
    "y_pred_log = logis_reg_tia.predict(x_test_tiagram)\n",
    "print(\"Logistic Reg  Algo\")\n",
    "print(classification_report(y_test_tiagram, y_pred_log))"
   ]
  },
  {
   "cell_type": "code",
   "execution_count": null,
   "metadata": {},
   "outputs": [],
   "source": []
  },
  {
   "cell_type": "code",
   "execution_count": null,
   "metadata": {},
   "outputs": [],
   "source": []
  }
 ],
 "metadata": {
  "kernelspec": {
   "display_name": "Python 3",
   "language": "python",
   "name": "python3"
  },
  "language_info": {
   "codemirror_mode": {
    "name": "ipython",
    "version": 3
   },
   "file_extension": ".py",
   "mimetype": "text/x-python",
   "name": "python",
   "nbconvert_exporter": "python",
   "pygments_lexer": "ipython3",
   "version": "3.8.3"
  }
 },
 "nbformat": 4,
 "nbformat_minor": 4
}
